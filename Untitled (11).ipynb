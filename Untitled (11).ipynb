{
 "cells": [
  {
   "cell_type": "code",
   "execution_count": 5,
   "id": "013882ea-bc07-41a3-bbcb-12436d1f0f7e",
   "metadata": {
    "tags": []
   },
   "outputs": [
    {
     "data": {
      "text/plain": [
       "'Q1. Explain why we have to use the Exception class while creating a Custom Exception.\\nNote: Here Exception class refers to the base class for all the exceptions.\\nQ2. Write a python program to print Python Exception Hierarchy.\\nQ3. What errors are defined in the ArithmeticError class? Explain any two with an example.\\nQ4. Why LookupError class is used? Explain with an example KeyError and IndexError.\\nQ5. Explain ImportError. What is ModuleNotFoundError?\\nQ6. List down some best practices for exception handling in python.'"
      ]
     },
     "execution_count": 5,
     "metadata": {},
     "output_type": "execute_result"
    }
   ],
   "source": [
    "'''Q1. Explain why we have to use the Exception class while creating a Custom Exception.\n",
    "Note: Here Exception class refers to the base class for all the exceptions.\n",
    "Q2. Write a python program to print Python Exception Hierarchy.\n",
    "Q3. What errors are defined in the ArithmeticError class? Explain any two with an example.\n",
    "Q4. Why LookupError class is used? Explain with an example KeyError and IndexError.\n",
    "Q5. Explain ImportError. What is ModuleNotFoundError?\n",
    "Q6. List down some best practices for exception handling in python.'''"
   ]
  },
  {
   "cell_type": "code",
   "execution_count": 4,
   "id": "603ec76c-54f3-4ae0-aec4-08654838641e",
   "metadata": {},
   "outputs": [
    {
     "data": {
      "text/plain": [
       "'BY inheriting the property of the exception class \\nthe child class inherits attribues like raised caught and handled well\\n\\nthus it bring a pattern ans homogenity in using the exception class\\n\\ncode becomes easy maintainable '"
      ]
     },
     "execution_count": 4,
     "metadata": {},
     "output_type": "execute_result"
    }
   ],
   "source": [
    "'''ANS (Q1)'''\n",
    "'''BY inheriting the property of the exception class \n",
    "the child class inherits attribues like raised caught and handled well\n",
    "\n",
    "thus it bring a pattern ans homogenity in using the exception class\n",
    "\n",
    "code becomes easy maintainable '''\n"
   ]
  },
  {
   "cell_type": "code",
   "execution_count": 3,
   "id": "d1a777e1-68d1-4266-bdbb-9f890e741dcb",
   "metadata": {},
   "outputs": [
    {
     "name": "stdout",
     "output_type": "stream",
     "text": [
      "<class 'Exception'>\n",
      "<class 'TypeError'>\n",
      "<class 'StopAsyncIteration'>\n",
      "<class 'StopIteration'>\n",
      "<class 'ImportError'>\n",
      "<class 'OSError'>\n",
      "<class 'EOFError'>\n",
      "<class 'RuntimeError'>\n",
      "<class 'NameError'>\n",
      "<class 'AttributeError'>\n",
      "<class 'SyntaxError'>\n",
      "<class 'LookupError'>\n",
      "<class 'ValueError'>\n",
      "<class 'AssertionError'>\n",
      "<class 'ArithmeticError'>\n",
      "<class 'SystemError'>\n",
      "<class 'ReferenceError'>\n",
      "<class 'MemoryError'>\n",
      "<class 'BufferError'>\n",
      "<class 'Warning'>\n",
      "<class 'warnings._OptionError'>\n",
      "<class 'runpy._Error'>\n",
      "<class 're.error'>\n",
      "<class 'sre_parse.Verbose'>\n",
      "<class 'locale.Error'>\n",
      "<class 'subprocess.SubprocessError'>\n",
      "<class 'ctypes.ArgumentError'>\n",
      "<class 'struct.error'>\n",
      "<class 'zmq.error.ZMQBaseError'>\n",
      "<class 'copy.Error'>\n",
      "<class '_pickle.PickleError'>\n",
      "<class 'pickle._Stop'>\n",
      "<class 'tokenize.TokenError'>\n",
      "<class 'tokenize.StopTokenizing'>\n",
      "<class 'concurrent.futures._base.Error'>\n",
      "<class 'socket._GiveupOnSendfile'>\n",
      "<class 'binascii.Incomplete'>\n",
      "<class 'inspect.ClassFoundException'>\n",
      "<class 'inspect.EndOfBlock'>\n",
      "<class 'asyncio.exceptions.TimeoutError'>\n",
      "<class 'asyncio.exceptions.InvalidStateError'>\n",
      "<class 'asyncio.exceptions.LimitOverrunError'>\n",
      "<class 'asyncio.queues.QueueEmpty'>\n",
      "<class 'asyncio.queues.QueueFull'>\n",
      "<class 'traitlets.traitlets.TraitError'>\n",
      "<class '_queue.Empty'>\n",
      "<class 'queue.Full'>\n",
      "<class 'zlib.error'>\n",
      "<class '_curses.error'>\n",
      "<class 'tornado.concurrent.ReturnValueIgnoredError'>\n",
      "<class 'argparse.ArgumentError'>\n",
      "<class 'argparse.ArgumentTypeError'>\n",
      "<class 'traitlets.config.loader.ConfigError'>\n",
      "<class 'traitlets.config.configurable.ConfigurableError'>\n",
      "<class 'traitlets.config.application.ApplicationError'>\n",
      "<class 'jupyter_client.channels.InvalidPortNumber'>\n",
      "<class 'termios.error'>\n",
      "<class '_lzma.LZMAError'>\n",
      "<class 'shutil.RegistryError'>\n",
      "<class 'shutil._GiveupOnFastCopy'>\n",
      "<class 'configparser.Error'>\n",
      "<class 'jupyter_client.localinterfaces.NoIPAddresses'>\n",
      "<class '_csv.Error'>\n",
      "<class 'zipfile.BadZipFile'>\n",
      "<class 'zipfile.LargeZipFile'>\n",
      "<class 'uu.Error'>\n",
      "<class 'email.errors.MessageError'>\n",
      "<class 'jupyter_client.multikernelmanager.DuplicateKernelError'>\n",
      "<class 'pydoc.ErrorDuringImport'>\n",
      "<class 'executing.executing.NotOneValueFound'>\n",
      "<class 'pure_eval.utils.CannotEval'>\n",
      "<class 'pygments.util.OptionError'>\n",
      "<class 'bdb.BdbQuit'>\n",
      "<class 'pdb.Restart'>\n",
      "<class 'pexpect.exceptions.ExceptionPexpect'>\n",
      "<class 'ptyprocess.util.PtyProcessError'>\n",
      "<class 'IPython.utils.process.FindCmdError'>\n",
      "<class 'IPython.utils.path.HomeDirError'>\n",
      "<class 'IPython.core.profiledir.ProfileDirError'>\n",
      "<class 'IPython.core.error.IPythonCoreError'>\n",
      "<class 'IPython.core.error.InputRejected'>\n",
      "<class 'getopt.GetoptError'>\n",
      "<class 'pygments.filters.ErrorToken'>\n",
      "<class 'IPython.core.prefilter.PrefilterError'>\n",
      "<class 'IPython.core.alias.AliasError'>\n",
      "<class 'sqlite3.Error'>\n",
      "<class 'sqlite3.Warning'>\n",
      "<class 'IPython.core.interactiveshell.SpaceInInput'>\n",
      "<class 'xml.dom.DOMException'>\n",
      "<class 'prompt_toolkit.validation.ValidationError'>\n",
      "<class 'prompt_toolkit.buffer.EditReadOnlyBuffer'>\n",
      "<class 'prompt_toolkit.buffer._Retry'>\n",
      "<class 'prompt_toolkit.layout.layout.InvalidLayoutError'>\n",
      "<class 'prompt_toolkit.renderer.HeightIsUnknownError'>\n",
      "<class 'IPython.core.guarded_eval.GuardRejection'>\n",
      "<class 'parso.parser.ParserSyntaxError'>\n",
      "<class 'parso.parser.InternalParseError'>\n",
      "<class 'parso.python.diff._PositionUpdatingFinished'>\n",
      "<class 'jedi.inference.helpers.SimpleGetItemNotFound'>\n",
      "<class 'jedi.inference.utils.UncaughtAttributeError'>\n",
      "<class 'jedi.inference.base_value.HasNoContext'>\n",
      "<class 'jedi.inference.arguments.ParamIssue'>\n",
      "<class 'jedi.api.exceptions._JediError'>\n",
      "<class 'jedi.api.helpers.OnErrorLeaf'>\n",
      "<class 'jedi.api.environment.InvalidPythonEnvironment'>\n",
      "<class 'http.client.HTTPException'>\n",
      "<class 'IPython.core.magics.code.InteractivelyDefined'>\n",
      "<class 'IPython.terminal.embed.KillEmbedded'>\n",
      "<class 'psutil.Error'>\n",
      "<class 'psutil._pslinux._Ipv6UnsupportedError'>\n",
      "<class 'tornado.gen.KeyReuseError'>\n",
      "<class 'tornado.gen.UnknownKeyError'>\n",
      "<class 'tornado.gen.LeakedCallbackError'>\n",
      "<class 'tornado.gen.BadYieldError'>\n",
      "<class 'tornado.gen.ReturnValueIgnoredError'>\n",
      "<class 'tornado.gen.Return'>\n",
      "<class 'tornado.queues.QueueEmpty'>\n",
      "<class 'tornado.queues.QueueFull'>\n",
      "<class '_pydev_bundle._pydev_saved_modules.DebuggerInitializationError'>\n",
      "<class 'xml.parsers.expat.ExpatError'>\n",
      "<class 'xmlrpc.client.Error'>\n",
      "<class 'pkg_resources._vendor.pyparsing.ParseBaseException'>\n",
      "<class 'pkg_resources._vendor.pyparsing.RecursiveGrammarException'>\n",
      "<class 'pkg_resources.ResolutionError'>\n",
      "<class '_pydevd_bundle.pydevd_runpy._Error'>\n",
      "<class '_pydevd_bundle.pydevd_resolver.UnableToResolveVariableException'>\n",
      "<class '_pydev_bundle.pydev_monkey.InvalidTypeInArgsException'>\n",
      "<class 'GeneratorExit'>\n",
      "<class 'SystemExit'>\n",
      "<class 'KeyboardInterrupt'>\n",
      "<class 'asyncio.exceptions.CancelledError'>\n"
     ]
    }
   ],
   "source": [
    "'''ANS(2)'''\n",
    "exception = BaseException.__subclasses__()\n",
    "for i in exception:\n",
    "    print(i)\n",
    "    subclass = i.__subclasses__()\n",
    "    for j in subclass:\n",
    "        print(j)"
   ]
  },
  {
   "cell_type": "code",
   "execution_count": 6,
   "id": "ccd5d3c3-63b3-4fbe-a4aa-dbf7bd8e97f3",
   "metadata": {
    "tags": []
   },
   "outputs": [
    {
     "name": "stdout",
     "output_type": "stream",
     "text": [
      "division by zero\n"
     ]
    }
   ],
   "source": [
    "'''ANS(3)in artitmatic error class all the errors related to the mathamatical operatios are included\n",
    "\n",
    "first is zero division error this occurs when any number is divided by zero \n",
    "\n",
    "example '''\n",
    "\n",
    "\n",
    "\n",
    "\n",
    "try:\n",
    "    x = 10/0\n",
    "except ZeroDivisionError as e:\n",
    "    print (e)\n",
    "    \n",
    "    "
   ]
  },
  {
   "cell_type": "code",
   "execution_count": null,
   "id": "6123fdf2-34d3-4ab3-a8e7-98d089e7f833",
   "metadata": {},
   "outputs": [],
   "source": [
    "a=10**100000000\n",
    "b=10**100000000\n",
    "    \n",
    "try:\n",
    "    c=a*b\n",
    "except OverFlowError as e:\n",
    "    print (e)\n"
   ]
  },
  {
   "cell_type": "code",
   "execution_count": 8,
   "id": "834c915b-ddb9-4524-a993-746c85ad1183",
   "metadata": {
    "tags": []
   },
   "outputs": [
    {
     "name": "stdout",
     "output_type": "stream",
     "text": [
      "IndexError occurred list index out of range\n"
     ]
    }
   ],
   "source": [
    "'''ANS(4) look up error is the base class for the exception  in which KeyError and the IndexError is \n",
    "found. if the key or index is not able in finding the object then this error occurs'''\n",
    "\n",
    "\n",
    "try:\n",
    "    listname = [2, 5, 6, 7, 8]\n",
    "    print(listname[7])\n",
    "except IndexError as e:\n",
    "    print (\"IndexError occurred\", e)"
   ]
  },
  {
   "cell_type": "code",
   "execution_count": 9,
   "id": "bbec2ce7-216d-4c46-864c-44f23b308867",
   "metadata": {
    "tags": []
   },
   "outputs": [
    {
     "name": "stdout",
     "output_type": "stream",
     "text": [
      "'key4'\n"
     ]
    }
   ],
   "source": [
    "\n",
    "dict_name={\"key1\":\"value1\",\"key2\":\"value2\",\"key3\":\"value3\"}\n",
    "try:\n",
    "    print(dict_name[\"key4\"])\n",
    "except KeyError as e:\n",
    "    print(e)"
   ]
  },
  {
   "cell_type": "code",
   "execution_count": 15,
   "id": "c69d2a59-acd6-4c02-98b8-9f51743365a5",
   "metadata": {
    "tags": []
   },
   "outputs": [
    {
     "name": "stdout",
     "output_type": "stream",
     "text": [
      "No module named 'muk'\n"
     ]
    }
   ],
   "source": [
    "'''ans(5) suppose a  module does not exist when we try to import it it gives module \n",
    "not found error'''\n",
    "try:\n",
    "    import muk\n",
    "except ModuleNotFoundError as e :\n",
    "      print (e )"
   ]
  },
  {
   "cell_type": "code",
   "execution_count": 16,
   "id": "cf763b53-bee6-4d3d-810e-3c3b3fad79da",
   "metadata": {
    "tags": []
   },
   "outputs": [
    {
     "name": "stdout",
     "output_type": "stream",
     "text": [
      "cannot import name 'mukesh' from 'math' (unknown location)\n"
     ]
    }
   ],
   "source": [
    "''' suppose there is a function that is not defind in the module we are importing will give import error\n",
    "mukesh is not defined in math module so it will give import error'''\n",
    "\n",
    "try:\n",
    "    from math import mukesh\n",
    "except ImportError as e :\n",
    "    print(e)\n"
   ]
  },
  {
   "cell_type": "code",
   "execution_count": 17,
   "id": "530f259d-2a31-454a-a7a3-78b950755103",
   "metadata": {
    "tags": []
   },
   "outputs": [
    {
     "data": {
      "text/plain": [
       "\"Catch the exception using the partcular name\\n\\nuse try and except block when needed\\n\\nuse finally for unevitable task\\n\\nmake custom exception when needed\\n\\ndon't ignore exception\""
      ]
     },
     "execution_count": 17,
     "metadata": {},
     "output_type": "execute_result"
    }
   ],
   "source": [
    "'''ANS(6)'''\n",
    "\n",
    "'''Catch the exception using the partcular name\n",
    "\n",
    "use try and except block when needed\n",
    "\n",
    "use finally for unevitable task\n",
    "\n",
    "make custom exception when needed\n",
    "\n",
    "don't ignore exception'''\n",
    "\n"
   ]
  },
  {
   "cell_type": "code",
   "execution_count": null,
   "id": "b6bf6ddd-620e-46db-8874-a44a7edcb6f5",
   "metadata": {},
   "outputs": [],
   "source": []
  }
 ],
 "metadata": {
  "kernelspec": {
   "display_name": "Python 3 (ipykernel)",
   "language": "python",
   "name": "python3"
  },
  "language_info": {
   "codemirror_mode": {
    "name": "ipython",
    "version": 3
   },
   "file_extension": ".py",
   "mimetype": "text/x-python",
   "name": "python",
   "nbconvert_exporter": "python",
   "pygments_lexer": "ipython3",
   "version": "3.10.6"
  }
 },
 "nbformat": 4,
 "nbformat_minor": 5
}
